{
 "cells": [
  {
   "cell_type": "code",
   "execution_count": null,
   "metadata": {},
   "outputs": [],
   "source": [
    "!git clone -b dev https://gitlab.com/camenduru/Text2Video-Zero\n",
    "!pip install -q gradio==3.23.0 decord==0.6.0 diffusers==0.14.0 accelerate==0.16.0 safetensors==0.2.7 einops==0.6.0 transformers==4.26.0\n",
    "%cd /content/Text2Video-Zero\n",
    "!python app.py"
   ]
  }
 ],
 "metadata": {
  "language_info": {
   "name": "python"
  },
  "orig_nbformat": 4
 },
 "nbformat": 4,
 "nbformat_minor": 2
}
